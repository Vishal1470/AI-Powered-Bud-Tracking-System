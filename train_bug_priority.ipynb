{
 "cells": [
  {
   "cell_type": "code",
   "execution_count": 4,
   "id": "0f154847-f023-475f-bc26-ae5b50426620",
   "metadata": {},
   "outputs": [
    {
     "name": "stdout",
     "output_type": "stream",
     "text": [
      "✅ Priority model and vectorizer saved successfully!\n"
     ]
    }
   ],
   "source": [
    "import pandas as pd\n",
    "import joblib\n",
    "from sklearn.feature_extraction.text import TfidfVectorizer\n",
    "from sklearn.linear_model import LogisticRegression\n",
    "from sklearn.model_selection import train_test_split\n",
    "\n",
    "# Priority dataset\n",
    "df = pd.read_csv(\"bug_data.csv\")\n",
    "df[\"text\"] = df[\"title\"] + \" \" + df[\"description\"]\n",
    "X = df[\"text\"]\n",
    "y = df[\"priority\"]\n",
    "\n",
    "# Split data\n",
    "X_train, X_test, y_train, y_test = train_test_split(X, y, test_size=0.2, random_state=42)\n",
    "\n",
    "# Vectorization\n",
    "vectorizer_priority = TfidfVectorizer()\n",
    "X_train_vec = vectorizer_priority.fit_transform(X_train)\n",
    "X_test_vec = vectorizer_priority.transform(X_test)\n",
    "\n",
    "# Train model\n",
    "priority_model = LogisticRegression()\n",
    "priority_model.fit(X_train_vec, y_train)\n",
    "\n",
    "# Save both\n",
    "joblib.dump(priority_model, \"bug_priority_model.pkl\")\n",
    "joblib.dump(vectorizer_priority, \"vectorizer_priority.pkl\")\n",
    "\n",
    "print(\"✅ Priority model and vectorizer saved successfully!\")\n"
   ]
  },
  {
   "cell_type": "code",
   "execution_count": null,
   "id": "e1f23296-785b-42d1-b9ed-bb60721b27c1",
   "metadata": {},
   "outputs": [],
   "source": []
  },
  {
   "cell_type": "code",
   "execution_count": null,
   "id": "40f29416-a366-45f5-aa4b-12e146fc6570",
   "metadata": {},
   "outputs": [],
   "source": []
  }
 ],
 "metadata": {
  "kernelspec": {
   "display_name": "Python 3 (ipykernel)",
   "language": "python",
   "name": "python3"
  },
  "language_info": {
   "codemirror_mode": {
    "name": "ipython",
    "version": 3
   },
   "file_extension": ".py",
   "mimetype": "text/x-python",
   "name": "python",
   "nbconvert_exporter": "python",
   "pygments_lexer": "ipython3",
   "version": "3.13.2"
  }
 },
 "nbformat": 4,
 "nbformat_minor": 5
}
