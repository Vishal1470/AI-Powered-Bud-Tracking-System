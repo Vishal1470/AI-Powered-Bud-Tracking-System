{
 "cells": [
  {
   "cell_type": "code",
   "execution_count": 3,
   "id": "e89b0f41-fc89-4bbe-be32-3b8f3ff70cba",
   "metadata": {},
   "outputs": [
    {
     "name": "stdout",
     "output_type": "stream",
     "text": [
      "✅ Category model and vectorizer saved successfully!\n"
     ]
    }
   ],
   "source": [
    "import pandas as pd\n",
    "import joblib\n",
    "from sklearn.model_selection import train_test_split\n",
    "from sklearn.feature_extraction.text import TfidfVectorizer\n",
    "from sklearn.naive_bayes import MultinomialNB\n",
    "\n",
    "# Sample bug category dataset\n",
    "data = {\n",
    "    \"bug_report\": [\n",
    "        \"App crashes when logging in\",\n",
    "        \"Submit button not working\",\n",
    "        \"Spelling mistake in about section\",\n",
    "        \"Slow loading time on homepage\",\n",
    "        \"App freezes while clicking\",\n",
    "        \"Login form not visible\",\n",
    "        \"Security vulnerability in payment\",\n",
    "        \"Text overlapping in UI\",\n",
    "        \"Wrong redirection after login\",\n",
    "        \"Crash when uploading file\"\n",
    "    ],\n",
    "    \"category\": [\n",
    "        \"Crash Bug\",\n",
    "        \"UI Bug\",\n",
    "        \"Content Bug\",\n",
    "        \"Performance Bug\",\n",
    "        \"Crash Bug\",\n",
    "        \"UI Bug\",\n",
    "        \"Security Bug\",\n",
    "        \"UI Bug\",\n",
    "        \"Functional Bug\",\n",
    "        \"Crash Bug\"\n",
    "    ]\n",
    "}\n",
    "\n",
    "df = pd.DataFrame(data)\n",
    "\n",
    "# Split data\n",
    "X_train, X_test, y_train, y_test = train_test_split(df[\"bug_report\"], df[\"category\"], test_size=0.2, random_state=42)\n",
    "\n",
    "# Vectorize\n",
    "vectorizer = TfidfVectorizer()\n",
    "X_train_vec = vectorizer.fit_transform(X_train)\n",
    "X_test_vec = vectorizer.transform(X_test)\n",
    "\n",
    "# Train model\n",
    "model = MultinomialNB()\n",
    "model.fit(X_train_vec, y_train)\n",
    "\n",
    "# Save model and vectorizer\n",
    "joblib.dump(model, \"bug_model.pkl\")\n",
    "joblib.dump(vectorizer, \"vectorizer.pkl\")\n",
    "\n",
    "print(\"✅ Category model and vectorizer saved successfully!\")\n"
   ]
  },
  {
   "cell_type": "code",
   "execution_count": null,
   "id": "f8f1485f-d44a-4016-b567-fa925dd6e39f",
   "metadata": {},
   "outputs": [],
   "source": []
  },
  {
   "cell_type": "code",
   "execution_count": null,
   "id": "e7c14af2-f7ce-4dc8-9c30-839708e6e392",
   "metadata": {},
   "outputs": [],
   "source": []
  }
 ],
 "metadata": {
  "kernelspec": {
   "display_name": "Python 3 (ipykernel)",
   "language": "python",
   "name": "python3"
  },
  "language_info": {
   "codemirror_mode": {
    "name": "ipython",
    "version": 3
   },
   "file_extension": ".py",
   "mimetype": "text/x-python",
   "name": "python",
   "nbconvert_exporter": "python",
   "pygments_lexer": "ipython3",
   "version": "3.13.2"
  }
 },
 "nbformat": 4,
 "nbformat_minor": 5
}
